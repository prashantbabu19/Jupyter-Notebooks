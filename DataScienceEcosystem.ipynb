{
 "cells": [
  {
   "cell_type": "code",
   "execution_count": null,
   "id": "5760d6b7-b0e1-4384-8adb-076dcaded5d4",
   "metadata": {},
   "outputs": [],
   "source": []
  },
  {
   "cell_type": "markdown",
   "id": "1962a66e-5890-4e41-8595-9dfb7305fa73",
   "metadata": {},
   "source": [
    "# Data Science Tools and Ecosystem"
   ]
  },
  {
   "cell_type": "markdown",
   "id": "1ca91ec8-9054-4ccc-98b3-32e6a92093f4",
   "metadata": {},
   "source": [
    "This notebook gives an overview of the tools and technologies used in the data science, highlighting their applications."
   ]
  },
  {
   "cell_type": "markdown",
   "id": "1b5bb6cb-661f-45c3-b885-bdaebeb2cf0f",
   "metadata": {},
   "source": [
    "Some of the popular languages that Data Scientists use are:\n",
    "\n",
    "1. Python  \n",
    "2. R  \n",
    "3. SQL  "
   ]
  },
  {
   "cell_type": "markdown",
   "id": "86f1ae82-d4ef-4e65-92cc-c8e31eefa3e1",
   "metadata": {},
   "source": [
    "Some of the commonly used libraries by Data Scientists include:  \n",
    "\n",
    "1. Pandas  \n",
    "2. NumPy  \n",
    "3. Matplotlib  \n",
    "4. Scikit-learn"
   ]
  },
  {
   "cell_type": "markdown",
   "id": "9f1c3655-b63f-4303-9979-129befc230fe",
   "metadata": {},
   "source": [
    "| Data Science Tools        |  \n",
    "|---------------------------|  \n",
    "| Jupyter Notebook          |  \n",
    "| Apache Zeppelin           |  \n",
    "| RStudio                   |  "
   ]
  },
  {
   "cell_type": "markdown",
   "id": "8c52b7c6-b58f-400a-bda2-54290bbe584c",
   "metadata": {},
   "source": [
    "### Below are a few examples of evaluating arithmetic expressions in Python."
   ]
  },
  {
   "cell_type": "code",
   "execution_count": 15,
   "id": "ef603a2f-0bb6-4c27-8746-094b81f4ec78",
   "metadata": {},
   "outputs": [
    {
     "data": {
      "text/plain": [
       "17"
      ]
     },
     "execution_count": 15,
     "metadata": {},
     "output_type": "execute_result"
    }
   ],
   "source": [
    "# This is a simple arithmetic expression to multiply then add integers.  \n",
    "result = (3 * 4) + 5  \n",
    "result"
   ]
  },
  {
   "cell_type": "code",
   "execution_count": 16,
   "id": "1d290e8f-e79e-4d16-a1f5-34731beac74c",
   "metadata": {},
   "outputs": [
    {
     "data": {
      "text/plain": [
       "3.3333333333333335"
      ]
     },
     "execution_count": 16,
     "metadata": {},
     "output_type": "execute_result"
    }
   ],
   "source": [
    "# This will convert 200 minutes to hours by dividing by 60.  \n",
    "hours = 200 / 60  \n",
    "hours"
   ]
  },
  {
   "cell_type": "markdown",
   "id": "a22913b4-1127-4c8a-9dbb-ec1f480b5a7e",
   "metadata": {},
   "source": [
    "**Objectives:**  \n",
    "\n",
    "- List popular languages for Data Science.  \n",
    "- Understand key libraries used in data science.  \n",
    "- Explain arithmetic operations in Python.  \n",
    "- Grasp the importance of data visualization."
   ]
  },
  {
   "cell_type": "markdown",
   "id": "773d1f2b-2cd2-4617-83c2-593552fb6c26",
   "metadata": {},
   "source": [
    "## Author  \n",
    "\n",
    "Prashant Sharma"
   ]
  },
  {
   "cell_type": "code",
   "execution_count": null,
   "id": "fb397909-a9a5-4587-963c-e7bd921e113b",
   "metadata": {},
   "outputs": [],
   "source": []
  }
 ],
 "metadata": {
  "kernelspec": {
   "display_name": "Python 3 (ipykernel)",
   "language": "python",
   "name": "python3"
  },
  "language_info": {
   "codemirror_mode": {
    "name": "ipython",
    "version": 3
   },
   "file_extension": ".py",
   "mimetype": "text/x-python",
   "name": "python",
   "nbconvert_exporter": "python",
   "pygments_lexer": "ipython3",
   "version": "3.12.0"
  }
 },
 "nbformat": 4,
 "nbformat_minor": 5
}
